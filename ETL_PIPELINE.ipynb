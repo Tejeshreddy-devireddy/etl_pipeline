{
  "nbformat": 4,
  "nbformat_minor": 0,
  "metadata": {
    "colab": {
      "provenance": []
    },
    "kernelspec": {
      "name": "python3",
      "display_name": "Python 3"
    },
    "language_info": {
      "name": "python"
    }
  },
  "cells": [
    {
      "cell_type": "code",
      "execution_count": 1,
      "metadata": {
        "colab": {
          "base_uri": "https://localhost:8080/"
        },
        "id": "wlL_pFxaTBN4",
        "outputId": "7e0cbf38-16fd-4cb6-e83d-43c658faaeb6"
      },
      "outputs": [
        {
          "output_type": "stream",
          "name": "stdout",
          "text": [
            "Requirement already satisfied: pandas in /usr/local/lib/python3.11/dist-packages (2.2.2)\n",
            "Requirement already satisfied: scikit-learn in /usr/local/lib/python3.11/dist-packages (1.6.1)\n",
            "Requirement already satisfied: joblib in /usr/local/lib/python3.11/dist-packages (1.5.1)\n",
            "Requirement already satisfied: numpy>=1.23.2 in /usr/local/lib/python3.11/dist-packages (from pandas) (2.0.2)\n",
            "Requirement already satisfied: python-dateutil>=2.8.2 in /usr/local/lib/python3.11/dist-packages (from pandas) (2.9.0.post0)\n",
            "Requirement already satisfied: pytz>=2020.1 in /usr/local/lib/python3.11/dist-packages (from pandas) (2025.2)\n",
            "Requirement already satisfied: tzdata>=2022.7 in /usr/local/lib/python3.11/dist-packages (from pandas) (2025.2)\n",
            "Requirement already satisfied: scipy>=1.6.0 in /usr/local/lib/python3.11/dist-packages (from scikit-learn) (1.16.1)\n",
            "Requirement already satisfied: threadpoolctl>=3.1.0 in /usr/local/lib/python3.11/dist-packages (from scikit-learn) (3.6.0)\n",
            "Requirement already satisfied: six>=1.5 in /usr/local/lib/python3.11/dist-packages (from python-dateutil>=2.8.2->pandas) (1.17.0)\n"
          ]
        }
      ],
      "source": [
        "!pip install pandas scikit-learn joblib"
      ]
    },
    {
      "cell_type": "code",
      "source": [
        "import pandas as pd\n",
        "import numpy as np\n",
        "import os\n",
        "import joblib\n",
        "from sklearn.compose import ColumnTransformer\n",
        "from sklearn.pipeline import Pipeline\n",
        "from sklearn.impute import SimpleImputer\n",
        "from sklearn.preprocessing import OneHotEncoder, StandardScaler\n",
        "from datetime import datetime"
      ],
      "metadata": {
        "id": "alzlXnJzTsGj"
      },
      "execution_count": 3,
      "outputs": []
    },
    {
      "cell_type": "code",
      "source": [
        "def make_demo_dataframe():\n",
        "    rng = np.random.default_rng(42)\n",
        "    n = 20\n",
        "    df = pd.DataFrame({\n",
        "        \"name\": [\"Alice\",\"Bob\",\"Charlie\",\"David\",\"Eva\"] * 4,\n",
        "        \"age\": rng.integers(18, 60, size=n),\n",
        "        \"city\": rng.choice([\"Vijayawada\",\"Chennai\",\"Hyderabad\",\"Delhi\"], size=n),\n",
        "        \"income\": rng.normal(50000, 10000, size=n).round(2),\n",
        "        \"target\": rng.choice([0,1], size=n, p=[0.6, 0.4])\n",
        "    })\n",
        "    # Add missing values\n",
        "    df.loc[rng.choice(df.index, size=3, replace=False), \"age\"] = np.nan\n",
        "    df.loc[rng.choice(df.index, size=2, replace=False), \"city\"] = np.nan\n",
        "    return df"
      ],
      "metadata": {
        "id": "ohRjGyq3TyUP"
      },
      "execution_count": 4,
      "outputs": []
    },
    {
      "cell_type": "code",
      "source": [
        "# 1) Extract — get data\n",
        "df = make_demo_dataframe()\n",
        "\n",
        "# 2) Separate features and target\n",
        "target_col = \"target\"\n",
        "y = df[target_col]\n",
        "X = df.drop(columns=[target_col])\n",
        "\n",
        "# 3) Identify column types\n",
        "numeric_cols = X.select_dtypes(include=[\"number\"]).columns.tolist()\n",
        "categorical_cols = X.select_dtypes(exclude=[\"number\"]).columns.tolist()\n",
        "\n",
        "# 4) Define preprocessing for each type\n",
        "numeric_transformer = Pipeline(steps=[\n",
        "    (\"imputer\", SimpleImputer(strategy=\"median\")),\n",
        "    (\"scaler\", StandardScaler())\n",
        "])\n",
        "categorical_transformer = Pipeline(steps=[\n",
        "    (\"imputer\", SimpleImputer(strategy=\"most_frequent\")),\n",
        "    (\"onehot\", OneHotEncoder(handle_unknown=\"ignore\"))\n",
        "])\n",
        "\n",
        "# 5) Combine into a column transformer\n",
        "preprocessor = ColumnTransformer(\n",
        "    transformers=[\n",
        "        (\"num\", numeric_transformer, numeric_cols),\n",
        "        (\"cat\", categorical_transformer, categorical_cols),\n",
        "    ]\n",
        ")\n",
        "\n",
        "# 6) Transform data\n",
        "X_processed = preprocessor.fit_transform(X)\n",
        "\n",
        "# 7) Save processed data\n",
        "os.makedirs(\"outputs/task1\", exist_ok=True)\n",
        "processed_df = pd.DataFrame(\n",
        "    X_processed.toarray() if hasattr(X_processed, \"toarray\") else X_processed\n",
        ")\n",
        "processed_df.to_csv(\"outputs/task1/processed.csv\", index=False)\n",
        "joblib.dump(preprocessor, \"outputs/task1/preprocess.joblib\")\n",
        "\n",
        "# 8) Create report\n",
        "report = [\n",
        "    f\"Run: {datetime.now().strftime('%Y-%m-%d %H:%M:%S')}\",\n",
        "    f\"Rows: {len(df)}\",\n",
        "    f\"Numeric cols: {numeric_cols}\",\n",
        "    f\"Categorical cols: {categorical_cols}\",\n",
        "    f\"Output: outputs/task1/processed.csv\"\n",
        "]\n",
        "with open(\"outputs/task1/report.txt\", \"w\") as f:\n",
        "    f.write(\"\\n\".join(report))\n",
        "\n",
        "print(\"✅ ETL Pipeline Completed!\")\n",
        "print(\"Processed data saved in 'outputs/task1' folder\")\n"
      ],
      "metadata": {
        "colab": {
          "base_uri": "https://localhost:8080/"
        },
        "id": "rkt9FD9QT8UJ",
        "outputId": "a4245348-b2a4-4721-f561-11a79b63835f"
      },
      "execution_count": 5,
      "outputs": [
        {
          "output_type": "stream",
          "name": "stdout",
          "text": [
            "✅ ETL Pipeline Completed!\n",
            "Processed data saved in 'outputs/task1' folder\n"
          ]
        }
      ]
    },
    {
      "cell_type": "code",
      "source": [
        "from google.colab import files\n",
        "files.download(\"outputs/task1/processed.csv\")\n",
        "files.download(\"outputs/task1/report.txt\")"
      ],
      "metadata": {
        "colab": {
          "base_uri": "https://localhost:8080/",
          "height": 17
        },
        "id": "c95ot4uxUXw3",
        "outputId": "4dc785d8-564d-4c16-d89a-07b2612b20c1"
      },
      "execution_count": 6,
      "outputs": [
        {
          "output_type": "display_data",
          "data": {
            "text/plain": [
              "<IPython.core.display.Javascript object>"
            ],
            "application/javascript": [
              "\n",
              "    async function download(id, filename, size) {\n",
              "      if (!google.colab.kernel.accessAllowed) {\n",
              "        return;\n",
              "      }\n",
              "      const div = document.createElement('div');\n",
              "      const label = document.createElement('label');\n",
              "      label.textContent = `Downloading \"${filename}\": `;\n",
              "      div.appendChild(label);\n",
              "      const progress = document.createElement('progress');\n",
              "      progress.max = size;\n",
              "      div.appendChild(progress);\n",
              "      document.body.appendChild(div);\n",
              "\n",
              "      const buffers = [];\n",
              "      let downloaded = 0;\n",
              "\n",
              "      const channel = await google.colab.kernel.comms.open(id);\n",
              "      // Send a message to notify the kernel that we're ready.\n",
              "      channel.send({})\n",
              "\n",
              "      for await (const message of channel.messages) {\n",
              "        // Send a message to notify the kernel that we're ready.\n",
              "        channel.send({})\n",
              "        if (message.buffers) {\n",
              "          for (const buffer of message.buffers) {\n",
              "            buffers.push(buffer);\n",
              "            downloaded += buffer.byteLength;\n",
              "            progress.value = downloaded;\n",
              "          }\n",
              "        }\n",
              "      }\n",
              "      const blob = new Blob(buffers, {type: 'application/binary'});\n",
              "      const a = document.createElement('a');\n",
              "      a.href = window.URL.createObjectURL(blob);\n",
              "      a.download = filename;\n",
              "      div.appendChild(a);\n",
              "      a.click();\n",
              "      div.remove();\n",
              "    }\n",
              "  "
            ]
          },
          "metadata": {}
        },
        {
          "output_type": "display_data",
          "data": {
            "text/plain": [
              "<IPython.core.display.Javascript object>"
            ],
            "application/javascript": [
              "download(\"download_73b06408-c074-420a-8264-f68c8bfcd7bf\", \"processed.csv\", 1527)"
            ]
          },
          "metadata": {}
        },
        {
          "output_type": "display_data",
          "data": {
            "text/plain": [
              "<IPython.core.display.Javascript object>"
            ],
            "application/javascript": [
              "\n",
              "    async function download(id, filename, size) {\n",
              "      if (!google.colab.kernel.accessAllowed) {\n",
              "        return;\n",
              "      }\n",
              "      const div = document.createElement('div');\n",
              "      const label = document.createElement('label');\n",
              "      label.textContent = `Downloading \"${filename}\": `;\n",
              "      div.appendChild(label);\n",
              "      const progress = document.createElement('progress');\n",
              "      progress.max = size;\n",
              "      div.appendChild(progress);\n",
              "      document.body.appendChild(div);\n",
              "\n",
              "      const buffers = [];\n",
              "      let downloaded = 0;\n",
              "\n",
              "      const channel = await google.colab.kernel.comms.open(id);\n",
              "      // Send a message to notify the kernel that we're ready.\n",
              "      channel.send({})\n",
              "\n",
              "      for await (const message of channel.messages) {\n",
              "        // Send a message to notify the kernel that we're ready.\n",
              "        channel.send({})\n",
              "        if (message.buffers) {\n",
              "          for (const buffer of message.buffers) {\n",
              "            buffers.push(buffer);\n",
              "            downloaded += buffer.byteLength;\n",
              "            progress.value = downloaded;\n",
              "          }\n",
              "        }\n",
              "      }\n",
              "      const blob = new Blob(buffers, {type: 'application/binary'});\n",
              "      const a = document.createElement('a');\n",
              "      a.href = window.URL.createObjectURL(blob);\n",
              "      a.download = filename;\n",
              "      div.appendChild(a);\n",
              "      a.click();\n",
              "      div.remove();\n",
              "    }\n",
              "  "
            ]
          },
          "metadata": {}
        },
        {
          "output_type": "display_data",
          "data": {
            "text/plain": [
              "<IPython.core.display.Javascript object>"
            ],
            "application/javascript": [
              "download(\"download_47086b46-810d-4f82-8173-dc77981c0b9b\", \"report.txt\", 136)"
            ]
          },
          "metadata": {}
        }
      ]
    }
  ]
}